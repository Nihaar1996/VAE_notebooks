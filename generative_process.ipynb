{
 "cells": [
  {
   "cell_type": "code",
   "execution_count": 343,
   "metadata": {},
   "outputs": [],
   "source": [
    "import torch\n",
    "import numpy as np\n",
    "import pandas as pd\n",
    "import seaborn as sns\n",
    "import matplotlib.pyplot as plt\n",
    "from scipy import stats"
   ]
  },
  {
   "cell_type": "code",
   "execution_count": 3,
   "metadata": {},
   "outputs": [],
   "source": [
    "sns.set(color_codes=True)"
   ]
  },
  {
   "cell_type": "code",
   "execution_count": 7,
   "metadata": {},
   "outputs": [],
   "source": [
    "def sample_gumbel(shape, eps=1e-20): \n",
    "    \"\"\"Sample from Gumbel(0, 1)\"\"\"\n",
    "    U = torch.distributions.Uniform(0,1)\n",
    "    U = U.sample(shape)\n",
    "    return -torch.log(-torch.log(U + eps) + eps)"
   ]
  },
  {
   "cell_type": "code",
   "execution_count": 198,
   "metadata": {},
   "outputs": [
    {
     "data": {
      "text/plain": [
       "tensor([0.5785, 0.8464, 0.4723, 0.5181, 0.9751, 0.7312, 0.5213, 0.7325, 0.7509,\n",
       "        0.7778])"
      ]
     },
     "execution_count": 198,
     "metadata": {},
     "output_type": "execute_result"
    }
   ],
   "source": [
    "# categorical parameters \n",
    "pi = torch.rand(10)\n",
    "pi"
   ]
  },
  {
   "cell_type": "code",
   "execution_count": 192,
   "metadata": {
    "scrolled": true
   },
   "outputs": [
    {
     "data": {
      "text/plain": [
       "<StemContainer object of 3 artists>"
      ]
     },
     "execution_count": 192,
     "metadata": {},
     "output_type": "execute_result"
    },
    {
     "data": {
      "image/png": "[encoded data removed]",
      "text/plain": [
       "<Figure size 432x288 with 1 Axes>"
      ]
     },
     "metadata": {},
     "output_type": "display_data"
    }
   ],
   "source": [
    "plt.stem(pi,use_line_collection=True)"
   ]
  },
  {
   "cell_type": "code",
   "execution_count": 199,
   "metadata": {},
   "outputs": [
    {
     "data": {
      "text/plain": [
       "tensor([[ 0.7267, -0.2114,  0.9889,  ...,  1.0544,  1.3622,  0.6137],\n",
       "        [-0.6558, -0.0384, -0.0417,  ..., -0.1896, -0.4132, -1.6892],\n",
       "        [ 0.5670, -1.2758, -0.0777,  ..., -0.6324, -0.5085, -0.5425],\n",
       "        ...,\n",
       "        [-1.1785, -0.8815,  0.2462,  ...,  2.5552,  3.6371,  2.2167],\n",
       "        [-1.3577, -0.0474,  4.9420,  ...,  0.2001, -0.7104, -0.2280],\n",
       "        [-0.1191,  0.9206,  1.1134,  ..., -0.8722, -0.3581,  0.8370]])"
      ]
     },
     "execution_count": 199,
     "metadata": {},
     "output_type": "execute_result"
    }
   ],
   "source": [
    "gI "
   ]
  },
  {
   "cell_type": "code",
   "execution_count": 200,
   "metadata": {},
   "outputs": [
    {
     "data": {
      "text/plain": [
       "tensor([[ 1.3052,  0.6350,  1.4612,  ...,  1.7869,  2.1131,  1.3915],\n",
       "        [-0.0773,  0.8081,  0.4306,  ...,  0.5430,  0.3377, -0.9113],\n",
       "        [ 1.1455, -0.4293,  0.3946,  ...,  0.1001,  0.2423,  0.2353],\n",
       "        ...,\n",
       "        [-0.6000, -0.0350,  0.7184,  ...,  3.2878,  4.3879,  2.9945],\n",
       "        [-0.7792,  0.7991,  5.4143,  ...,  0.9327,  0.0404,  0.5498],\n",
       "        [ 0.4594,  1.7670,  1.5857,  ..., -0.1397,  0.3928,  1.6148]])"
      ]
     },
     "execution_count": 200,
     "metadata": {},
     "output_type": "execute_result"
    }
   ],
   "source": [
    "g+pi"
   ]
  },
  {
   "cell_type": "code",
   "execution_count": 193,
   "metadata": {},
   "outputs": [
    {
     "data": {
      "text/plain": [
       "tensor([[ 0.5232, -0.4207,  0.6371,  ...,  1.0439,  1.2619, -0.1352],\n",
       "        [-0.8593, -0.2477, -0.3935,  ..., -0.2001, -0.5135, -2.4380],\n",
       "        [ 0.3635, -1.4850, -0.4295,  ..., -0.6430, -0.6088, -1.2914],\n",
       "        ...,\n",
       "        [-1.3820, -1.0908, -0.1057,  ...,  2.5447,  3.5368,  1.4678],\n",
       "        [-1.5612, -0.2566,  4.5902,  ...,  0.1896, -0.8107, -0.9769],\n",
       "        [-0.3226,  0.7113,  0.7616,  ..., -0.8828, -0.4584,  0.0881]])"
      ]
     },
     "execution_count": 193,
     "metadata": {},
     "output_type": "execute_result"
    }
   ],
   "source": [
    "N = 10000\n",
    "g = sample_gumbel([N, 10])\n",
    "\n",
    "# z = np.argmax(g + pi[None], 1)\n",
    "# z"
   ]
  },
  {
   "cell_type": "code",
   "execution_count": 185,
   "metadata": {},
   "outputs": [],
   "source": [
    "temp = np.zeros((N,10))\n",
    "for i, cols in enumerate(z):\n",
    "    temp[i, cols] = 1"
   ]
  },
  {
   "cell_type": "code",
   "execution_count": 186,
   "metadata": {},
   "outputs": [
    {
     "data": {
      "text/plain": [
       "<matplotlib.image.AxesImage at 0x136e8e780>"
      ]
     },
     "execution_count": 186,
     "metadata": {},
     "output_type": "execute_result"
    },
    {
     "data": {
      "image/png": "[encoded data removed]",
      "text/plain": [
       "<Figure size 720x720 with 1 Axes>"
      ]
     },
     "metadata": {},
     "output_type": "display_data"
    }
   ],
   "source": [
    "plt.figure(figsize=(10,10))\n",
    "plt.imshow(temp)"
   ]
  },
  {
   "cell_type": "code",
   "execution_count": 191,
   "metadata": {},
   "outputs": [
    {
     "data": {
      "text/plain": [
       "<StemContainer object of 3 artists>"
      ]
     },
     "execution_count": 191,
     "metadata": {},
     "output_type": "execute_result"
    },
    {
     "data": {
      "image/png": "[encoded data removed]",
      "text/plain": [
       "<Figure size 432x288 with 1 Axes>"
      ]
     },
     "metadata": {},
     "output_type": "display_data"
    }
   ],
   "source": [
    "plt.stem(np.mean(temp,0),use_line_collection=True)"
   ]
  },
  {
   "cell_type": "code",
   "execution_count": 189,
   "metadata": {},
   "outputs": [
    {
     "data": {
      "text/plain": [
       "<StemContainer object of 3 artists>"
      ]
     },
     "execution_count": 189,
     "metadata": {},
     "output_type": "execute_result"
    },
    {
     "data": {
      "image/png": "[encoded data removed]",
      "text/plain": [
       "<Figure size 432x288 with 1 Axes>"
      ]
     },
     "metadata": {},
     "output_type": "display_data"
    }
   ],
   "source": [
    "plt.stem(pi,use_line_collection=True)"
   ]
  },
  {
   "cell_type": "code",
   "execution_count": 130,
   "metadata": {},
   "outputs": [],
   "source": [
    "import numpy as np"
   ]
  },
  {
   "cell_type": "code",
   "execution_count": 133,
   "metadata": {},
   "outputs": [],
   "source": [
    "znp.argmax(z, 1)"
   ]
  },
  {
   "cell_type": "code",
   "execution_count": 129,
   "metadata": {},
   "outputs": [
    {
     "data": {
      "text/plain": [
       "<matplotlib.image.AxesImage at 0x135d8c9e8>"
      ]
     },
     "execution_count": 129,
     "metadata": {},
     "output_type": "execute_result"
    },
    {
     "data": {
      "image/png": "[encoded data removed]",
      "text/plain": [
       "<Figure size 720x720 with 1 Axes>"
      ]
     },
     "metadata": {},
     "output_type": "display_data"
    }
   ],
   "source": [
    "plt.figure(figsize=(10,10))\n",
    "plt.imshow(z)"
   ]
  },
  {
   "cell_type": "code",
   "execution_count": 113,
   "metadata": {},
   "outputs": [
    {
     "name": "stdout",
     "output_type": "stream",
     "text": [
      "tensor([ 0.3177, -0.5330,  0.6735,  3.4394, -0.6509,  1.2428,  0.1095,  2.0857,\n",
      "         0.1895,  1.3065])\n"
     ]
    },
    {
     "data": {
      "image/png": "[encoded data removed]",
      "text/plain": [
       "<Figure size 432x288 with 1 Axes>"
      ]
     },
     "metadata": {},
     "output_type": "display_data"
    }
   ],
   "source": [
    "x = sample_gumbel([10])\n",
    "tau = torch.autograd.Variable(torch.tensor(1),name=\"temperature\")\n",
    "\n",
    "l,r = 0,1\n",
    "logits = l + torch.rand(10) * (r - l)\n",
    "# logits = torch.distributions.Categorical(torch.tensor([.1,.9,.2]))\n",
    "\n",
    "y = logits + sample_gumbel(logits.shape)\n",
    "m = torch.nn.Softmax(dim=0)\n",
    "\n",
    "# gumbel softmax (gsm) sample z\n",
    "z_gsm = m(y/tau)\n",
    "sns.distplot(gsm,kde=False);\n",
    "\n",
    "print(x)\n",
    "\n",
    "A = torch.arange(1,10)\n",
    "N_01 = torch.distributions.Normal(0,1)\n",
    "eps= N_01.sample()\n",
    "mu = torch.mean(gsm)\n",
    "    \n",
    "# reparametrize \n",
    "# y = A* x + mu\n",
    "\n",
    "\n",
    "# y\n",
    "# sample_gumbel(logits)"
   ]
  },
  {
   "cell_type": "markdown",
   "metadata": {},
   "source": [
    "<h4>Linear Transformation of Gaussian random variables<h4>\n",
    "$$x \\sim N(\\mu_x, \\Sigma_x)$$\n",
    "The black scatter shows the distribution of x "
   ]
  },
  {
   "cell_type": "code",
   "execution_count": 348,
   "metadata": {},
   "outputs": [
    {
     "data": {
      "text/plain": [
       "<matplotlib.collections.PathCollection at 0x13fe434a8>"
      ]
     },
     "execution_count": 348,
     "metadata": {},
     "output_type": "execute_result"
    },
    {
     "data": {
      "image/png": "[encoded data removed]",
      "text/plain": [
       "<Figure size 432x288 with 1 Axes>"
      ]
     },
     "metadata": {},
     "output_type": "display_data"
    }
   ],
   "source": [
    "# linear transformation of Normal identities\n",
    "mux1= torch.FloatTensor([1,20])\n",
    "sigmax1 = torch.FloatTensor([[3,0],[0,3]])\n",
    "dist1 = torch.distributions.MultivariateNormal(mux1,sigmax1)\n",
    "\n",
    "X_sample1 = dist1.sample([100,])\n",
    "\n",
    "x_s1 = X_sample1[:,0]\n",
    "y_s1 = X_sample1[:,1]\n",
    "\n",
    "plt.scatter(x_s1,y_s1,color='black')"
   ]
  },
  {
   "cell_type": "markdown",
   "metadata": {},
   "source": [
    "transformed_x $= Ax + b$ \n",
    "\n",
    "The red scatter shows the samples from X and black show samples from transformed_x"
   ]
  },
  {
   "cell_type": "code",
   "execution_count": 281,
   "metadata": {},
   "outputs": [
    {
     "name": "stdout",
     "output_type": "stream",
     "text": [
      "torch.Size([2, 1]) torch.Size([2, 2])\n",
      "torch.Size([2, 100])\n"
     ]
    },
    {
     "data": {
      "text/plain": [
       "<matplotlib.collections.PathCollection at 0x13d10b240>"
      ]
     },
     "execution_count": 281,
     "metadata": {},
     "output_type": "execute_result"
    },
    {
     "data": {
      "image/png": "[encoded data removed]",
      "text/plain": [
       "<Figure size 432x288 with 1 Axes>"
      ]
     },
     "metadata": {},
     "output_type": "display_data"
    }
   ],
   "source": [
    "A = torch.FloatTensor([[1,0],[0,1]])\n",
    "b = torch.FloatTensor([[5,5]]).view(2,-1)\n",
    "\n",
    "# X_sample1 = X_sample1.view(2,-1)\n",
    "X_sample1_t = X_sample1.t()\n",
    "print(X_sample1_t.shape)\n",
    "\n",
    "# plot the original distribution \n",
    "plt.scatter(X_sample1_t[0,:],X_sample1_t[1,:],color='red')\n",
    "\n",
    "transformed_x = torch.mm(A,X_sample1_t)+b\n",
    "x_s1_tr = transformed_x[0,:]\n",
    "y_s1_tr = transformed_x[1,:]\n",
    "\n",
    "# plot the transformed distribution\n",
    "plt.scatter(x_s1_tr,y_s1_tr,color='black') \n"
   ]
  },
  {
   "cell_type": "markdown",
   "metadata": {},
   "source": [
    "<h2>Applying linear gaussian identity to analytically compute the transformed mean and variance <h2>\n",
    "Plotting the distribution with this computed mean and var in red and plotting the transformed distribution in black "
   ]
  },
  {
   "cell_type": "code",
   "execution_count": 282,
   "metadata": {},
   "outputs": [
    {
     "data": {
      "text/plain": [
       "<matplotlib.collections.PathCollection at 0x13d135e10>"
      ]
     },
     "execution_count": 282,
     "metadata": {},
     "output_type": "execute_result"
    },
    {
     "data": {
      "image/png": "[encoded data removed]",
      "text/plain": [
       "<Figure size 432x288 with 1 Axes>"
      ]
     },
     "metadata": {},
     "output_type": "display_data"
    }
   ],
   "source": [
    "# analytically compute the new mean and variance of the transformed distribution\n",
    "mu_tr_given_x = torch.mm(A,mux1.view(2,1))+b\n",
    "sigma_tr_given_x = torch.mm(torch.mm(A,sigmax1),A.t())\n",
    "# The new distribution with above parameters\n",
    "lin_gaus_identity_dist = torch.distributions.MultivariateNormal(mu_tr_given_x,sigma_tr_given_x)\n",
    "\n",
    "lin_tran_sample = lin_gaus_identity_dist.sample([100,])\n",
    "x_lin_tran = lin_tran_sample[:,0]\n",
    "y_lin_tran = lin_tran_sample[:,1]\n",
    "\n",
    "# plot the new distribution in red\n",
    "plt.scatter(x_lin_tran,y_lin_tran,color='red')\n",
    "# plot the transformed distribution in black\n",
    "plt.scatter(x_s1_tr,y_s1_tr,color='black')\n",
    "\n",
    "# they should be identical in their parameters"
   ]
  },
  {
   "cell_type": "markdown",
   "metadata": {},
   "source": [
    "<h2>Gumbel Max Trick [Gumbel,1954;Madisson et.al. 2014]</h2><br>\n",
    "The goal of the following script is to show that a categorical distribution $$z \\sim Cat(\\vec{\\pi})$$ is roughly equivalent \n",
    "to sampling from $$z = \\text{one_hot} (\\text{ argmax}_i[log(\\pi_i)+g_i] )$$ <br>i.e. even when a gumbel noise is added to the log     categorical probabilities we obtain a similar distribution to the categorical. "
   ]
  },
  {
   "cell_type": "code",
   "execution_count": 466,
   "metadata": {},
   "outputs": [
    {
     "data": {
      "text/plain": [
       "(array([ 60.,  62.,  42.,  34., 555.,  43.,  46.,  54.,  58.,  46.]),\n",
       " array([0. , 0.9, 1.8, 2.7, 3.6, 4.5, 5.4, 6.3, 7.2, 8.1, 9. ]),\n",
       " <a list of 10 Patch objects>)"
      ]
     },
     "execution_count": 466,
     "metadata": {},
     "output_type": "execute_result"
    },
    {
     "data": {
      "image/png": "[encoded data removed]",
      "text/plain": [
       "<Figure size 432x288 with 1 Axes>"
      ]
     },
     "metadata": {},
     "output_type": "display_data"
    }
   ],
   "source": [
    "pi = [.05 for i in range(9)]\n",
    "pi.insert(4,.55) # \n",
    "pi = torch.FloatTensor(pi)\n",
    "\n",
    "cat_dist = torch.distributions.categorical.Categorical(pi)\n",
    "c_s = cat_dist.sample([1000])\n",
    "plt.hist(c_s)"
   ]
  },
  {
   "cell_type": "code",
   "execution_count": null,
   "metadata": {},
   "outputs": [],
   "source": []
  },
  {
   "cell_type": "code",
   "execution_count": 467,
   "metadata": {},
   "outputs": [
    {
     "data": {
      "text/plain": [
       "(array([7.530e+02, 4.055e+03, 3.296e+03, 1.314e+03, 4.140e+02, 1.240e+02,\n",
       "        2.900e+01, 7.000e+00, 6.000e+00, 2.000e+00]),\n",
       " array([-2.1942797, -0.9422919,  0.3096958,  1.5616835,  2.8136714,\n",
       "         4.065659 ,  5.317647 ,  6.5696344,  7.8216224,  9.07361  ,\n",
       "        10.325598 ], dtype=float32),\n",
       " <a list of 10 Patch objects>)"
      ]
     },
     "execution_count": 467,
     "metadata": {},
     "output_type": "execute_result"
    },
    {
     "data": {
      "image/png": "[encoded data removed]",
      "text/plain": [
       "<Figure size 432x288 with 1 Axes>"
      ]
     },
     "metadata": {},
     "output_type": "display_data"
    }
   ],
   "source": [
    "# Visualising Gumbel(0,1)\n",
    "g_dist = torch.distributions.Gumbel(0,1)\n",
    "g_s = g_dist.sample([10000,])\n",
    "\n",
    "plt.hist(g_s)"
   ]
  },
  {
   "cell_type": "code",
   "execution_count": null,
   "metadata": {},
   "outputs": [],
   "source": []
  },
  {
   "cell_type": "markdown",
   "metadata": {},
   "source": [
    "Sampling from $g\\sim$Gumbel$(0,1)$ and adding that as noise to $\\pi=[\\pi_1,\\pi_2,\\pi_3...\\pi_k]$ Finally taking the argmax and doing this over and over again to simulate a new distribution of categorical probabilities that has added gumbel noise."
   ]
  },
  {
   "cell_type": "code",
   "execution_count": 470,
   "metadata": {},
   "outputs": [
    {
     "name": "stderr",
     "output_type": "stream",
     "text": [
      "/Users/nihaar/Documents/virtual-envs/MLwPP/lib/python3.6/site-packages/ipykernel_launcher.py:18: UserWarning: In Matplotlib 3.3 individual lines on a stem plot will be added as a LineCollection instead of individual lines. This significantly improves the performance of a stem plot. To remove this warning and switch to the new behaviour, set the \"use_line_collection\" keyword argument to True.\n"
     ]
    },
    {
     "data": {
      "text/plain": [
       "<StemContainer object of 3 artists>"
      ]
     },
     "execution_count": 470,
     "metadata": {},
     "output_type": "execute_result"
    },
    {
     "data": {
      "image/png": "[encoded data removed]",
      "text/plain": [
       "<Figure size 432x288 with 1 Axes>"
      ]
     },
     "metadata": {},
     "output_type": "display_data"
    }
   ],
   "source": [
    "n = 1000\n",
    "K = 10 # number of categories\n",
    "one_hot = torch.zeros(K)\n",
    "\n",
    "# pi = [.05 for i in range(10)]\n",
    "\n",
    "for s in range(n):\n",
    "    g = g_dist.sample([K]).numpy()\n",
    "    \n",
    "    g_plus_pi = [np.log(pi_i)+g_i for pi_i,g_i in zip(pi,g)]\n",
    "#     print(g_plus_pi)\n",
    "    \n",
    "    v = torch.argmax(torch.Tensor(g_plus_pi))\n",
    "    \n",
    "    one_hot_i = torch.tensor([0 if i!= v else 1 for i in range(K)])\n",
    "    one_hot += one_hot_i\n",
    "    \n",
    "plt.stem(one_hot)\n"
   ]
  },
  {
   "cell_type": "code",
   "execution_count": 501,
   "metadata": {},
   "outputs": [
    {
     "name": "stderr",
     "output_type": "stream",
     "text": [
      "/Users/nihaar/Documents/virtual-envs/MLwPP/lib/python3.6/site-packages/ipykernel_launcher.py:25: UserWarning: In Matplotlib 3.3 individual lines on a stem plot will be added as a LineCollection instead of individual lines. This significantly improves the performance of a stem plot. To remove this warning and switch to the new behaviour, set the \"use_line_collection\" keyword argument to True.\n"
     ]
    },
    {
     "data": {
      "text/plain": [
       "<StemContainer object of 3 artists>"
      ]
     },
     "execution_count": 501,
     "metadata": {},
     "output_type": "execute_result"
    },
    {
     "data": {
      "image/png": "[encoded data removed]",
      "text/plain": [
       "<Figure size 432x288 with 1 Axes>"
      ]
     },
     "metadata": {},
     "output_type": "display_data"
    }
   ],
   "source": [
    "import torch\n",
    "n = 100\n",
    "K = 10 # number of categories\n",
    "one_hot = torch.zeros(K)\n",
    "\n",
    "tau = .1\n",
    "m = torch.nn.Softmax(dim=0)\n",
    "\n",
    "for s in range(n):\n",
    "    g = g_dist.sample([K]).numpy()\n",
    "    \n",
    "    g_plus_pi = [np.log(pi_i)+g_i for pi_i,g_i in zip(pi,g)]\n",
    "    g_plus_pi = [x/tau for x in g_plus_pi]\n",
    "    \n",
    "    y_i = m(torch.Tensor(g_plus_pi))\n",
    "    y_i += y_i\n",
    "    \n",
    "plt.stem(y_i)"
   ]
  },
  {
   "cell_type": "code",
   "execution_count": 479,
   "metadata": {},
   "outputs": [
    {
     "data": {
      "text/plain": [
       "tensor([0.0500, 0.0500, 0.0500, 0.0500, 0.5500, 0.0500, 0.0500, 0.0500, 0.0500,\n",
       "        0.0500])"
      ]
     },
     "execution_count": 479,
     "metadata": {},
     "output_type": "execute_result"
    }
   ],
   "source": [
    "pi"
   ]
  },
  {
   "cell_type": "code",
   "execution_count": null,
   "metadata": {},
   "outputs": [],
   "source": []
  },
  {
   "cell_type": "code",
   "execution_count": null,
   "metadata": {},
   "outputs": [],
   "source": []
  },
  {
   "cell_type": "code",
   "execution_count": null,
   "metadata": {},
   "outputs": [],
   "source": []
  },
  {
   "cell_type": "code",
   "execution_count": null,
   "metadata": {},
   "outputs": [],
   "source": []
  }
 ],
 "metadata": {
  "kernelspec": {
   "display_name": "Python 3",
   "language": "python",
   "name": "python3"
  },
  "language_info": {
   "codemirror_mode": {
    "name": "ipython",
    "version": 3
   },
   "file_extension": ".py",
   "mimetype": "text/x-python",
   "name": "python",
   "nbconvert_exporter": "python",
   "pygments_lexer": "ipython3",
   "version": "3.6.2"
  }
 },
 "nbformat": 4,
 "nbformat_minor": 2
}
